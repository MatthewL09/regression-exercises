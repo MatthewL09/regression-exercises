{
 "cells": [
  {
   "cell_type": "code",
   "execution_count": 11,
   "id": "f92c592d-06c7-4506-8477-66bcc8b1f58f",
   "metadata": {},
   "outputs": [],
   "source": [
    "import pandas as pd\n",
    "import numpy as np\n",
    "import wrangle\n",
    "\n",
    "from scipy import stats\n",
    "import sklearn.preprocessing\n",
    "from sklearn.model_selection import train_test_split\n",
    "import matplotlib.pyplot as plt"
   ]
  },
  {
   "cell_type": "code",
   "execution_count": 8,
   "id": "743665f5-3a94-47f2-a0e3-fb7cbb70e644",
   "metadata": {},
   "outputs": [
    {
     "name": "stdout",
     "output_type": "stream",
     "text": [
      "Using cached csv\n"
     ]
    }
   ],
   "source": [
    "train, validate, test = wrangle.wrangle_zillow()"
   ]
  },
  {
   "cell_type": "code",
   "execution_count": 10,
   "id": "c57a2602-1dc7-4e55-a7a1-f0e8a6103029",
   "metadata": {},
   "outputs": [
    {
     "data": {
      "text/plain": [
       "((1198531, 7), (513657, 7), (428047, 7))"
      ]
     },
     "execution_count": 10,
     "metadata": {},
     "output_type": "execute_result"
    }
   ],
   "source": [
    "train.shape, validate.shape, test.shape"
   ]
  },
  {
   "cell_type": "code",
   "execution_count": 9,
   "id": "f53c26fc-93af-4e09-831c-6dfc7708816e",
   "metadata": {},
   "outputs": [
    {
     "data": {
      "text/html": [
       "<div>\n",
       "<style scoped>\n",
       "    .dataframe tbody tr th:only-of-type {\n",
       "        vertical-align: middle;\n",
       "    }\n",
       "\n",
       "    .dataframe tbody tr th {\n",
       "        vertical-align: top;\n",
       "    }\n",
       "\n",
       "    .dataframe thead th {\n",
       "        text-align: right;\n",
       "    }\n",
       "</style>\n",
       "<table border=\"1\" class=\"dataframe\">\n",
       "  <thead>\n",
       "    <tr style=\"text-align: right;\">\n",
       "      <th></th>\n",
       "      <th>bedroom</th>\n",
       "      <th>bathroom</th>\n",
       "      <th>square_ft</th>\n",
       "      <th>tax_value</th>\n",
       "      <th>year_built</th>\n",
       "      <th>tax</th>\n",
       "      <th>fips</th>\n",
       "    </tr>\n",
       "  </thead>\n",
       "  <tbody>\n",
       "    <tr>\n",
       "      <th>1567874</th>\n",
       "      <td>3</td>\n",
       "      <td>1</td>\n",
       "      <td>1248</td>\n",
       "      <td>191578</td>\n",
       "      <td>1950</td>\n",
       "      <td>2712</td>\n",
       "      <td>6037</td>\n",
       "    </tr>\n",
       "    <tr>\n",
       "      <th>1218139</th>\n",
       "      <td>2</td>\n",
       "      <td>2</td>\n",
       "      <td>1326</td>\n",
       "      <td>1345206</td>\n",
       "      <td>1950</td>\n",
       "      <td>16539</td>\n",
       "      <td>6037</td>\n",
       "    </tr>\n",
       "    <tr>\n",
       "      <th>339661</th>\n",
       "      <td>2</td>\n",
       "      <td>1</td>\n",
       "      <td>1053</td>\n",
       "      <td>356648</td>\n",
       "      <td>1953</td>\n",
       "      <td>4575</td>\n",
       "      <td>6037</td>\n",
       "    </tr>\n",
       "    <tr>\n",
       "      <th>1017134</th>\n",
       "      <td>3</td>\n",
       "      <td>2</td>\n",
       "      <td>1256</td>\n",
       "      <td>175069</td>\n",
       "      <td>1946</td>\n",
       "      <td>2635</td>\n",
       "      <td>6037</td>\n",
       "    </tr>\n",
       "    <tr>\n",
       "      <th>40250</th>\n",
       "      <td>3</td>\n",
       "      <td>2</td>\n",
       "      <td>1640</td>\n",
       "      <td>543000</td>\n",
       "      <td>1957</td>\n",
       "      <td>6344</td>\n",
       "      <td>6059</td>\n",
       "    </tr>\n",
       "  </tbody>\n",
       "</table>\n",
       "</div>"
      ],
      "text/plain": [
       "         bedroom  bathroom  square_ft  tax_value  year_built    tax  fips\n",
       "1567874        3         1       1248     191578        1950   2712  6037\n",
       "1218139        2         2       1326    1345206        1950  16539  6037\n",
       "339661         2         1       1053     356648        1953   4575  6037\n",
       "1017134        3         2       1256     175069        1946   2635  6037\n",
       "40250          3         2       1640     543000        1957   6344  6059"
      ]
     },
     "execution_count": 9,
     "metadata": {},
     "output_type": "execute_result"
    }
   ],
   "source": [
    "train.head()"
   ]
  },
  {
   "cell_type": "code",
   "execution_count": 61,
   "id": "4fd5226c-c617-4734-be97-e0accf98df55",
   "metadata": {},
   "outputs": [
    {
     "data": {
      "text/html": [
       "<div>\n",
       "<style scoped>\n",
       "    .dataframe tbody tr th:only-of-type {\n",
       "        vertical-align: middle;\n",
       "    }\n",
       "\n",
       "    .dataframe tbody tr th {\n",
       "        vertical-align: top;\n",
       "    }\n",
       "\n",
       "    .dataframe thead th {\n",
       "        text-align: right;\n",
       "    }\n",
       "</style>\n",
       "<table border=\"1\" class=\"dataframe\">\n",
       "  <thead>\n",
       "    <tr style=\"text-align: right;\">\n",
       "      <th></th>\n",
       "      <th>bedroom</th>\n",
       "      <th>bathroom</th>\n",
       "      <th>square_ft</th>\n",
       "      <th>tax_value</th>\n",
       "      <th>year_built</th>\n",
       "      <th>tax</th>\n",
       "      <th>fips</th>\n",
       "    </tr>\n",
       "  </thead>\n",
       "  <tbody>\n",
       "    <tr>\n",
       "      <th>count</th>\n",
       "      <td>1.19853e+06</td>\n",
       "      <td>1.19853e+06</td>\n",
       "      <td>1.19853e+06</td>\n",
       "      <td>1.19853e+06</td>\n",
       "      <td>1.19853e+06</td>\n",
       "      <td>1.19853e+06</td>\n",
       "      <td>1.19853e+06</td>\n",
       "    </tr>\n",
       "    <tr>\n",
       "      <th>mean</th>\n",
       "      <td>3.30149</td>\n",
       "      <td>2.18728</td>\n",
       "      <td>1864.36</td>\n",
       "      <td>461370</td>\n",
       "      <td>1960.95</td>\n",
       "      <td>5624.86</td>\n",
       "      <td>6048.3</td>\n",
       "    </tr>\n",
       "    <tr>\n",
       "      <th>std</th>\n",
       "      <td>0.93279</td>\n",
       "      <td>0.97518</td>\n",
       "      <td>1391.05</td>\n",
       "      <td>688919</td>\n",
       "      <td>22.1434</td>\n",
       "      <td>7940.15</td>\n",
       "      <td>20.3458</td>\n",
       "    </tr>\n",
       "    <tr>\n",
       "      <th>min</th>\n",
       "      <td>0</td>\n",
       "      <td>0</td>\n",
       "      <td>1</td>\n",
       "      <td>22</td>\n",
       "      <td>1801</td>\n",
       "      <td>6</td>\n",
       "      <td>6037</td>\n",
       "    </tr>\n",
       "    <tr>\n",
       "      <th>25%</th>\n",
       "      <td>3</td>\n",
       "      <td>2</td>\n",
       "      <td>1258</td>\n",
       "      <td>189293</td>\n",
       "      <td>1949</td>\n",
       "      <td>2541</td>\n",
       "      <td>6037</td>\n",
       "    </tr>\n",
       "    <tr>\n",
       "      <th>50%</th>\n",
       "      <td>3</td>\n",
       "      <td>2</td>\n",
       "      <td>1623</td>\n",
       "      <td>328628</td>\n",
       "      <td>1958</td>\n",
       "      <td>4114</td>\n",
       "      <td>6037</td>\n",
       "    </tr>\n",
       "    <tr>\n",
       "      <th>75%</th>\n",
       "      <td>4</td>\n",
       "      <td>3</td>\n",
       "      <td>2208</td>\n",
       "      <td>535000</td>\n",
       "      <td>1976</td>\n",
       "      <td>6415</td>\n",
       "      <td>6059</td>\n",
       "    </tr>\n",
       "    <tr>\n",
       "      <th>max</th>\n",
       "      <td>15</td>\n",
       "      <td>32</td>\n",
       "      <td>952576</td>\n",
       "      <td>9.01885e+07</td>\n",
       "      <td>2016</td>\n",
       "      <td>1.0781e+06</td>\n",
       "      <td>6111</td>\n",
       "    </tr>\n",
       "  </tbody>\n",
       "</table>\n",
       "</div>"
      ],
      "text/plain": [
       "           bedroom     bathroom    square_ft    tax_value   year_built  \\\n",
       "count  1.19853e+06  1.19853e+06  1.19853e+06  1.19853e+06  1.19853e+06   \n",
       "mean       3.30149      2.18728      1864.36       461370      1960.95   \n",
       "std        0.93279      0.97518      1391.05       688919      22.1434   \n",
       "min              0            0            1           22         1801   \n",
       "25%              3            2         1258       189293         1949   \n",
       "50%              3            2         1623       328628         1958   \n",
       "75%              4            3         2208       535000         1976   \n",
       "max             15           32       952576  9.01885e+07         2016   \n",
       "\n",
       "               tax         fips  \n",
       "count  1.19853e+06  1.19853e+06  \n",
       "mean       5624.86       6048.3  \n",
       "std        7940.15      20.3458  \n",
       "min              6         6037  \n",
       "25%           2541         6037  \n",
       "50%           4114         6037  \n",
       "75%           6415         6059  \n",
       "max     1.0781e+06         6111  "
      ]
     },
     "execution_count": 61,
     "metadata": {},
     "output_type": "execute_result"
    }
   ],
   "source": [
    "train.describe().apply(lambda s: s.apply(lambda x: format(x,'g')))"
   ]
  },
  {
   "cell_type": "markdown",
   "id": "264c01bc-06d0-49d3-965b-2d3a55ea2193",
   "metadata": {},
   "source": [
    "## Min-Max Scaling"
   ]
  },
  {
   "cell_type": "code",
   "execution_count": 53,
   "id": "f07cbb9e-8ef1-425d-a935-cb01b186364b",
   "metadata": {},
   "outputs": [
    {
     "data": {
      "text/plain": [
       "MinMaxScaler()"
      ]
     },
     "execution_count": 53,
     "metadata": {},
     "output_type": "execute_result"
    }
   ],
   "source": [
    "scaler = sklearn.preprocessing.MinMaxScaler()\n",
    "scaled = scaler.fit(X_train)\n",
    "scaled"
   ]
  },
  {
   "cell_type": "code",
   "execution_count": 54,
   "id": "0ceeeec7-5c14-4465-b67d-32e4723108f3",
   "metadata": {},
   "outputs": [],
   "source": [
    "train_scaled = scaler.transform(X_train)\n",
    "validate_scaled = scaler.transform(X_validate)\n",
    "test_scaled = scaler.transform(X_test)"
   ]
  },
  {
   "cell_type": "code",
   "execution_count": 55,
   "id": "5a397995-439c-4aba-b129-7b6211d946df",
   "metadata": {},
   "outputs": [
    {
     "data": {
      "text/plain": [
       "Text(0.5, 1.0, 'Scaled')"
      ]
     },
     "execution_count": 55,
     "metadata": {},
     "output_type": "execute_result"
    },
    {
     "data": {
      "image/png": "[encoded data removed]",
      "text/plain": [
       "<Figure size 936x432 with 2 Axes>"
      ]
     },
     "metadata": {
      "needs_background": "light"
     },
     "output_type": "display_data"
    }
   ],
   "source": [
    "plt.figure(figsize = (13, 6))\n",
    "plt.subplot(121)\n",
    "plt.hist(train.tax_value, bins = 25, ec='black')\n",
    "plt.title('Original')\n",
    "plt.subplot(122)\n",
    "plt.hist(train_scaled, bins = 25, ec='black')\n",
    "plt.title('Scaled')"
   ]
  },
  {
   "cell_type": "markdown",
   "id": "3bcd78f0-f75c-4831-90f2-a2143ce4832f",
   "metadata": {},
   "source": [
    "## Standard Scaler"
   ]
  },
  {
   "cell_type": "code",
   "execution_count": 46,
   "id": "db966f41-27f1-4781-a050-1c17ce9abba3",
   "metadata": {},
   "outputs": [
    {
     "data": {
      "text/plain": [
       "StandardScaler()"
      ]
     },
     "execution_count": 46,
     "metadata": {},
     "output_type": "execute_result"
    }
   ],
   "source": [
    "scaler = sklearn.preprocessing.StandardScaler()\n",
    "scaler.fit(X_train)"
   ]
  },
  {
   "cell_type": "code",
   "execution_count": 48,
   "id": "12bcd6c3-15ef-4811-b11b-c3cd86d35a42",
   "metadata": {},
   "outputs": [],
   "source": [
    "train_scaled = scaler.transform(X_train)\n",
    "validate_scaled = scaler.transform(X_validate)\n",
    "test_scaled = scaler.transform(X_test)"
   ]
  },
  {
   "cell_type": "code",
   "execution_count": 49,
   "id": "d9b581e0-8f71-4fcb-9e6b-6a550055fac4",
   "metadata": {},
   "outputs": [
    {
     "data": {
      "text/plain": [
       "Text(0.5, 1.0, 'Scaled')"
      ]
     },
     "execution_count": 49,
     "metadata": {},
     "output_type": "execute_result"
    },
    {
     "data": {
      "image/png": "[encoded data removed]",
      "text/plain": [
       "<Figure size 936x432 with 2 Axes>"
      ]
     },
     "metadata": {
      "needs_background": "light"
     },
     "output_type": "display_data"
    }
   ],
   "source": [
    "plt.figure(figsize = (13,6))\n",
    "plt.subplot(121)\n",
    "plt.hist(X_train, bins = 25, ec = 'black')\n",
    "plt.title('Original')\n",
    "plt.subplot(122)\n",
    "plt.hist(train_scaled, bins = 25, ec = 'black')\n",
    "plt.title('Scaled')"
   ]
  },
  {
   "cell_type": "code",
   "execution_count": null,
   "id": "9596f8ef-2f7b-41f0-98fe-df56f7e55f19",
   "metadata": {},
   "outputs": [],
   "source": []
  },
  {
   "cell_type": "code",
   "execution_count": null,
   "id": "968e8b57-97a5-48ca-b803-5ef32548f683",
   "metadata": {},
   "outputs": [],
   "source": []
  },
  {
   "cell_type": "code",
   "execution_count": null,
   "id": "dd264771-9db8-438f-b3d9-2a2813736200",
   "metadata": {},
   "outputs": [],
   "source": []
  }
 ],
 "metadata": {
  "kernelspec": {
   "display_name": "Python 3 (ipykernel)",
   "language": "python",
   "name": "python3"
  },
  "language_info": {
   "codemirror_mode": {
    "name": "ipython",
    "version": 3
   },
   "file_extension": ".py",
   "mimetype": "text/x-python",
   "name": "python",
   "nbconvert_exporter": "python",
   "pygments_lexer": "ipython3",
   "version": "3.9.7"
  }
 },
 "nbformat": 4,
 "nbformat_minor": 5
}
