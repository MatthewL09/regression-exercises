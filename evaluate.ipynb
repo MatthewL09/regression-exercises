{
 "cells": [
  {
   "cell_type": "code",
   "execution_count": 15,
   "id": "2956fa2f-5e8c-4622-8c5a-48d47cdebf5c",
   "metadata": {},
   "outputs": [],
   "source": [
    "import pandas as pd\n",
    "import numpy as np\n",
    "import matplotlib.pyplot as plt\n",
    "import seaborn as sns\n",
    "from sklearn.metrics import mean_squared_error, r2_score\n",
    "\n",
    "# linear model from sklearn\n",
    "from sklearn.linear_model import LinearRegression\n",
    "from sklearn.feature_selection import f_regression \n",
    "from math import sqrt\n",
    "from scipy import stats\n",
    "\n",
    "from pydataset import data\n",
    "import env"
   ]
  },
  {
   "cell_type": "code",
   "execution_count": 2,
   "id": "2d330bf5-fd2c-4723-b8c6-436f3f5e134c",
   "metadata": {},
   "outputs": [],
   "source": [
    "df = data('tips')"
   ]
  },
  {
   "cell_type": "code",
   "execution_count": 3,
   "id": "9ae2890a-53d7-484e-a5f5-068a93044aae",
   "metadata": {},
   "outputs": [
    {
     "data": {
      "text/html": [
       "<div>\n",
       "<style scoped>\n",
       "    .dataframe tbody tr th:only-of-type {\n",
       "        vertical-align: middle;\n",
       "    }\n",
       "\n",
       "    .dataframe tbody tr th {\n",
       "        vertical-align: top;\n",
       "    }\n",
       "\n",
       "    .dataframe thead th {\n",
       "        text-align: right;\n",
       "    }\n",
       "</style>\n",
       "<table border=\"1\" class=\"dataframe\">\n",
       "  <thead>\n",
       "    <tr style=\"text-align: right;\">\n",
       "      <th></th>\n",
       "      <th>total_bill</th>\n",
       "      <th>tip</th>\n",
       "      <th>sex</th>\n",
       "      <th>smoker</th>\n",
       "      <th>day</th>\n",
       "      <th>time</th>\n",
       "      <th>size</th>\n",
       "    </tr>\n",
       "  </thead>\n",
       "  <tbody>\n",
       "    <tr>\n",
       "      <th>1</th>\n",
       "      <td>16.99</td>\n",
       "      <td>1.01</td>\n",
       "      <td>Female</td>\n",
       "      <td>No</td>\n",
       "      <td>Sun</td>\n",
       "      <td>Dinner</td>\n",
       "      <td>2</td>\n",
       "    </tr>\n",
       "    <tr>\n",
       "      <th>2</th>\n",
       "      <td>10.34</td>\n",
       "      <td>1.66</td>\n",
       "      <td>Male</td>\n",
       "      <td>No</td>\n",
       "      <td>Sun</td>\n",
       "      <td>Dinner</td>\n",
       "      <td>3</td>\n",
       "    </tr>\n",
       "    <tr>\n",
       "      <th>3</th>\n",
       "      <td>21.01</td>\n",
       "      <td>3.50</td>\n",
       "      <td>Male</td>\n",
       "      <td>No</td>\n",
       "      <td>Sun</td>\n",
       "      <td>Dinner</td>\n",
       "      <td>3</td>\n",
       "    </tr>\n",
       "    <tr>\n",
       "      <th>4</th>\n",
       "      <td>23.68</td>\n",
       "      <td>3.31</td>\n",
       "      <td>Male</td>\n",
       "      <td>No</td>\n",
       "      <td>Sun</td>\n",
       "      <td>Dinner</td>\n",
       "      <td>2</td>\n",
       "    </tr>\n",
       "    <tr>\n",
       "      <th>5</th>\n",
       "      <td>24.59</td>\n",
       "      <td>3.61</td>\n",
       "      <td>Female</td>\n",
       "      <td>No</td>\n",
       "      <td>Sun</td>\n",
       "      <td>Dinner</td>\n",
       "      <td>4</td>\n",
       "    </tr>\n",
       "  </tbody>\n",
       "</table>\n",
       "</div>"
      ],
      "text/plain": [
       "   total_bill   tip     sex smoker  day    time  size\n",
       "1       16.99  1.01  Female     No  Sun  Dinner     2\n",
       "2       10.34  1.66    Male     No  Sun  Dinner     3\n",
       "3       21.01  3.50    Male     No  Sun  Dinner     3\n",
       "4       23.68  3.31    Male     No  Sun  Dinner     2\n",
       "5       24.59  3.61  Female     No  Sun  Dinner     4"
      ]
     },
     "execution_count": 3,
     "metadata": {},
     "output_type": "execute_result"
    }
   ],
   "source": [
    "df.head()"
   ]
  },
  {
   "cell_type": "code",
   "execution_count": 4,
   "id": "f3cecfd1-f2ac-4470-b1a0-f6fb4f70c35e",
   "metadata": {},
   "outputs": [],
   "source": [
    "df['baseline'] = df.tip.mean()"
   ]
  },
  {
   "cell_type": "code",
   "execution_count": 8,
   "id": "ce3ca486-0688-4e2c-ad82-4e6df7a46f61",
   "metadata": {},
   "outputs": [],
   "source": [
    "baseline = df.baseline"
   ]
  },
  {
   "cell_type": "code",
   "execution_count": 5,
   "id": "0129e39d-939f-4139-a3a3-db8067ca84c7",
   "metadata": {},
   "outputs": [
    {
     "data": {
      "text/html": [
       "<div>\n",
       "<style scoped>\n",
       "    .dataframe tbody tr th:only-of-type {\n",
       "        vertical-align: middle;\n",
       "    }\n",
       "\n",
       "    .dataframe tbody tr th {\n",
       "        vertical-align: top;\n",
       "    }\n",
       "\n",
       "    .dataframe thead th {\n",
       "        text-align: right;\n",
       "    }\n",
       "</style>\n",
       "<table border=\"1\" class=\"dataframe\">\n",
       "  <thead>\n",
       "    <tr style=\"text-align: right;\">\n",
       "      <th></th>\n",
       "      <th>total_bill</th>\n",
       "      <th>tip</th>\n",
       "      <th>baseline</th>\n",
       "    </tr>\n",
       "  </thead>\n",
       "  <tbody>\n",
       "    <tr>\n",
       "      <th>1</th>\n",
       "      <td>16.99</td>\n",
       "      <td>1.01</td>\n",
       "      <td>2.998279</td>\n",
       "    </tr>\n",
       "    <tr>\n",
       "      <th>2</th>\n",
       "      <td>10.34</td>\n",
       "      <td>1.66</td>\n",
       "      <td>2.998279</td>\n",
       "    </tr>\n",
       "    <tr>\n",
       "      <th>3</th>\n",
       "      <td>21.01</td>\n",
       "      <td>3.50</td>\n",
       "      <td>2.998279</td>\n",
       "    </tr>\n",
       "    <tr>\n",
       "      <th>4</th>\n",
       "      <td>23.68</td>\n",
       "      <td>3.31</td>\n",
       "      <td>2.998279</td>\n",
       "    </tr>\n",
       "    <tr>\n",
       "      <th>5</th>\n",
       "      <td>24.59</td>\n",
       "      <td>3.61</td>\n",
       "      <td>2.998279</td>\n",
       "    </tr>\n",
       "  </tbody>\n",
       "</table>\n",
       "</div>"
      ],
      "text/plain": [
       "   total_bill   tip  baseline\n",
       "1       16.99  1.01  2.998279\n",
       "2       10.34  1.66  2.998279\n",
       "3       21.01  3.50  2.998279\n",
       "4       23.68  3.31  2.998279\n",
       "5       24.59  3.61  2.998279"
      ]
     },
     "execution_count": 5,
     "metadata": {},
     "output_type": "execute_result"
    }
   ],
   "source": [
    "# Creating another column with the baseline prediction\n",
    "\n",
    "df = df.drop(columns = {'sex', 'smoker', 'day', 'time', 'size'})\n",
    "df.head()"
   ]
  },
  {
   "cell_type": "code",
   "execution_count": 13,
   "id": "b343dfa9-5f1e-4e23-840a-4c39f64e23bb",
   "metadata": {},
   "outputs": [
    {
     "data": {
      "text/plain": [
       "<matplotlib.lines.Line2D at 0x7fa583dace20>"
      ]
     },
     "execution_count": 13,
     "metadata": {},
     "output_type": "execute_result"
    },
    {
     "data": {
      "image/png": "[encoded data removed]",
      "text/plain": [
       "<Figure size 432x288 with 1 Axes>"
      ]
     },
     "metadata": {
      "needs_background": "light"
     },
     "output_type": "display_data"
    }
   ],
   "source": [
    "# looking at a scatter plot of total bill and tip amount\n",
    "# baseline is included\n",
    "\n",
    "plt.scatter(df.total_bill, df.tip)\n",
    "plt.axhline(2.998279, ls = ':')"
   ]
  },
  {
   "cell_type": "code",
   "execution_count": 18,
   "id": "8085c2a7-42f8-4b9d-8cf2-0b13972fb29c",
   "metadata": {},
   "outputs": [
    {
     "data": {
      "text/html": [
       "<div>\n",
       "<style scoped>\n",
       "    .dataframe tbody tr th:only-of-type {\n",
       "        vertical-align: middle;\n",
       "    }\n",
       "\n",
       "    .dataframe tbody tr th {\n",
       "        vertical-align: top;\n",
       "    }\n",
       "\n",
       "    .dataframe thead th {\n",
       "        text-align: right;\n",
       "    }\n",
       "</style>\n",
       "<table border=\"1\" class=\"dataframe\">\n",
       "  <thead>\n",
       "    <tr style=\"text-align: right;\">\n",
       "      <th></th>\n",
       "      <th>total_bill</th>\n",
       "      <th>tip</th>\n",
       "      <th>baseline</th>\n",
       "      <th>yhat</th>\n",
       "    </tr>\n",
       "  </thead>\n",
       "  <tbody>\n",
       "    <tr>\n",
       "      <th>1</th>\n",
       "      <td>16.99</td>\n",
       "      <td>1.01</td>\n",
       "      <td>2.998279</td>\n",
       "      <td>2.704636</td>\n",
       "    </tr>\n",
       "    <tr>\n",
       "      <th>2</th>\n",
       "      <td>10.34</td>\n",
       "      <td>1.66</td>\n",
       "      <td>2.998279</td>\n",
       "      <td>2.006223</td>\n",
       "    </tr>\n",
       "    <tr>\n",
       "      <th>3</th>\n",
       "      <td>21.01</td>\n",
       "      <td>3.50</td>\n",
       "      <td>2.998279</td>\n",
       "      <td>3.126835</td>\n",
       "    </tr>\n",
       "    <tr>\n",
       "      <th>4</th>\n",
       "      <td>23.68</td>\n",
       "      <td>3.31</td>\n",
       "      <td>2.998279</td>\n",
       "      <td>3.407250</td>\n",
       "    </tr>\n",
       "    <tr>\n",
       "      <th>5</th>\n",
       "      <td>24.59</td>\n",
       "      <td>3.61</td>\n",
       "      <td>2.998279</td>\n",
       "      <td>3.502822</td>\n",
       "    </tr>\n",
       "  </tbody>\n",
       "</table>\n",
       "</div>"
      ],
      "text/plain": [
       "   total_bill   tip  baseline      yhat\n",
       "1       16.99  1.01  2.998279  2.704636\n",
       "2       10.34  1.66  2.998279  2.006223\n",
       "3       21.01  3.50  2.998279  3.126835\n",
       "4       23.68  3.31  2.998279  3.407250\n",
       "5       24.59  3.61  2.998279  3.502822"
      ]
     },
     "execution_count": 18,
     "metadata": {},
     "output_type": "execute_result"
    }
   ],
   "source": [
    "# fit a regression model using OLS method\n",
    "# OLS = ordinary least squares\n",
    "# create and fit the model\n",
    "model = LinearRegression().fit(df[['total_bill']], df[['tip']])\n",
    "\n",
    "# put predictions into df\n",
    "df['yhat'] = model.predict(df[['total_bill']])\n",
    "df.head()"
   ]
  },
  {
   "cell_type": "code",
   "execution_count": 32,
   "id": "0a3969a5-6ed4-4434-9249-f459c72dd491",
   "metadata": {},
   "outputs": [
    {
     "data": {
      "image/png": "[encoded data removed]",
      "text/plain": [
       "<Figure size 576x288 with 1 Axes>"
      ]
     },
     "metadata": {
      "needs_background": "light"
     },
     "output_type": "display_data"
    }
   ],
   "source": [
    "# visualize the line of best fit from OLS linear model\n",
    "plt.figure(figsize = (8,4))\n",
    "# plotting data points\n",
    "plt.scatter(df.total_bill, df.tip, color = 'lightblue')\n",
    "\n",
    "# plotting regression line\n",
    "plt.plot(df.total_bill, df.yhat, color = 'red')\n",
    "\n",
    "# plot baseline with it\n",
    "plt.plot(df.total_bill, df.baseline, color = 'green')\n",
    "\n",
    "# adding title and labels\n",
    "plt.xlabel('x = total bill')\n",
    "plt.ylabel('y = tip amount')\n",
    "plt.title('OLS linear vs baseline');"
   ]
  },
  {
   "cell_type": "markdown",
   "id": "46afab3f-44c1-422e-ba65-b43cc4395788",
   "metadata": {},
   "source": [
    "## Exercise 3\n",
    "\n",
    "plot the residuals for the linear regression model you made"
   ]
  },
  {
   "cell_type": "code",
   "execution_count": 33,
   "id": "7806557c-e575-435d-8817-1b0d014cb06a",
   "metadata": {},
   "outputs": [
    {
     "data": {
      "text/html": [
       "<div>\n",
       "<style scoped>\n",
       "    .dataframe tbody tr th:only-of-type {\n",
       "        vertical-align: middle;\n",
       "    }\n",
       "\n",
       "    .dataframe tbody tr th {\n",
       "        vertical-align: top;\n",
       "    }\n",
       "\n",
       "    .dataframe thead th {\n",
       "        text-align: right;\n",
       "    }\n",
       "</style>\n",
       "<table border=\"1\" class=\"dataframe\">\n",
       "  <thead>\n",
       "    <tr style=\"text-align: right;\">\n",
       "      <th></th>\n",
       "      <th>total_bill</th>\n",
       "      <th>tip</th>\n",
       "      <th>baseline</th>\n",
       "      <th>yhat</th>\n",
       "      <th>residual</th>\n",
       "      <th>baseline_residual</th>\n",
       "    </tr>\n",
       "  </thead>\n",
       "  <tbody>\n",
       "    <tr>\n",
       "      <th>1</th>\n",
       "      <td>16.99</td>\n",
       "      <td>1.01</td>\n",
       "      <td>2.998279</td>\n",
       "      <td>2.704636</td>\n",
       "      <td>1.694636</td>\n",
       "      <td>1.988279</td>\n",
       "    </tr>\n",
       "    <tr>\n",
       "      <th>2</th>\n",
       "      <td>10.34</td>\n",
       "      <td>1.66</td>\n",
       "      <td>2.998279</td>\n",
       "      <td>2.006223</td>\n",
       "      <td>0.346223</td>\n",
       "      <td>1.338279</td>\n",
       "    </tr>\n",
       "    <tr>\n",
       "      <th>3</th>\n",
       "      <td>21.01</td>\n",
       "      <td>3.50</td>\n",
       "      <td>2.998279</td>\n",
       "      <td>3.126835</td>\n",
       "      <td>-0.373165</td>\n",
       "      <td>-0.501721</td>\n",
       "    </tr>\n",
       "    <tr>\n",
       "      <th>4</th>\n",
       "      <td>23.68</td>\n",
       "      <td>3.31</td>\n",
       "      <td>2.998279</td>\n",
       "      <td>3.407250</td>\n",
       "      <td>0.097250</td>\n",
       "      <td>-0.311721</td>\n",
       "    </tr>\n",
       "    <tr>\n",
       "      <th>5</th>\n",
       "      <td>24.59</td>\n",
       "      <td>3.61</td>\n",
       "      <td>2.998279</td>\n",
       "      <td>3.502822</td>\n",
       "      <td>-0.107178</td>\n",
       "      <td>-0.611721</td>\n",
       "    </tr>\n",
       "  </tbody>\n",
       "</table>\n",
       "</div>"
      ],
      "text/plain": [
       "   total_bill   tip  baseline      yhat  residual  baseline_residual\n",
       "1       16.99  1.01  2.998279  2.704636  1.694636           1.988279\n",
       "2       10.34  1.66  2.998279  2.006223  0.346223           1.338279\n",
       "3       21.01  3.50  2.998279  3.126835 -0.373165          -0.501721\n",
       "4       23.68  3.31  2.998279  3.407250  0.097250          -0.311721\n",
       "5       24.59  3.61  2.998279  3.502822 -0.107178          -0.611721"
      ]
     },
     "execution_count": 33,
     "metadata": {},
     "output_type": "execute_result"
    }
   ],
   "source": [
    "# calculating residuals for baseline and linear regression models\n",
    "\n",
    "df['residual'] = df.yhat - df.tip\n",
    "df['baseline_residual'] = df.baseline - df.tip\n",
    "df.head()"
   ]
  },
  {
   "cell_type": "code",
   "execution_count": 34,
   "id": "13130027-8e1d-4f9a-bcf0-0e044b48461d",
   "metadata": {},
   "outputs": [
    {
     "data": {
      "text/plain": [
       "(-1.2434497875801753e-13, 2.4868995751603507e-14)"
      ]
     },
     "execution_count": 34,
     "metadata": {},
     "output_type": "execute_result"
    }
   ],
   "source": [
    "df.residual.sum(), df.baseline_residual.sum()"
   ]
  },
  {
   "cell_type": "code",
   "execution_count": 35,
   "id": "14117132-f9a0-4429-9002-192980458577",
   "metadata": {},
   "outputs": [
    {
     "data": {
      "text/plain": [
       "<function matplotlib.pyplot.show(close=None, block=None)>"
      ]
     },
     "execution_count": 35,
     "metadata": {},
     "output_type": "execute_result"
    },
    {
     "data": {
      "image/png": "[encoded data removed]",
      "text/plain": [
       "<Figure size 576x432 with 1 Axes>"
      ]
     },
     "metadata": {
      "needs_background": "light"
     },
     "output_type": "display_data"
    }
   ],
   "source": [
    "# plotting residuals for the linear regression model\n",
    "plt.figure(figsize = (8,6))\n",
    "plt.scatter(df.total_bill, df.residual, color = 'lightblue')\n",
    "\n",
    "# setting titles\n",
    "plt.title('model residuals', fontsize = 10)\n",
    "\n",
    "# set labels\n",
    "plt.ylabel(r'$\\hat{y}-y$')\n",
    "plt.xlabel('total bill')\n",
    "\n",
    "plt.show"
   ]
  },
  {
   "cell_type": "code",
   "execution_count": 36,
   "id": "bb92318a-a343-4625-9aa8-2e54308ff40b",
   "metadata": {},
   "outputs": [
    {
     "data": {
      "text/plain": [
       "<function matplotlib.pyplot.show(close=None, block=None)>"
      ]
     },
     "execution_count": 36,
     "metadata": {},
     "output_type": "execute_result"
    },
    {
     "data": {
      "image/png": "[encoded data removed]",
      "text/plain": [
       "<Figure size 576x432 with 1 Axes>"
      ]
     },
     "metadata": {
      "needs_background": "light"
     },
     "output_type": "display_data"
    }
   ],
   "source": [
    "# plot residuals for baseline\n",
    "plt.figure(figsize = (8,6))\n",
    "plt.scatter(df.total_bill, df.baseline_residual, color = 'lightgreen')\n",
    "\n",
    "# set titles\n",
    "plt.title('baseline residuals', fontsize = 10)\n",
    "\n",
    "# add labes\n",
    "plt.ylabel(r'$\\hat{y}-y$')\n",
    "plt.xlabel('total bill')\n",
    "\n",
    "plt.show"
   ]
  },
  {
   "cell_type": "code",
   "execution_count": 39,
   "id": "cbf1429f-dd81-43b5-af79-ca0b4cd95517",
   "metadata": {},
   "outputs": [
    {
     "data": {
      "image/png": "[encoded data removed]",
      "text/plain": [
       "<Figure size 936x504 with 2 Axes>"
      ]
     },
     "metadata": {
      "needs_background": "light"
     },
     "output_type": "display_data"
    }
   ],
   "source": [
    "# residual plots (x vs residual)\n",
    "\n",
    "plt.figure(figsize = (13,7))\n",
    "\n",
    "# rows, cols, placement\n",
    "# one row, two columns, first plot\n",
    "plt.subplot(121)\n",
    "plt.scatter(df.total_bill, df.baseline_residual)\n",
    "plt.axhline(y = 0, ls = ':')\n",
    "plt.xlabel('x')\n",
    "plt.ylabel('Residual')\n",
    "plt.title('Baseline Residuals')\n",
    "\n",
    "plt.subplot(122)\n",
    "plt.scatter(df.total_bill, df.residual)\n",
    "plt.axhline(y = 0, ls = ':')\n",
    "plt.xlabel('total bill')\n",
    "plt.ylabel('Residual')\n",
    "plt.title('OLS model residuals');"
   ]
  },
  {
   "cell_type": "markdown",
   "id": "5d663edc-0a92-4487-a0ee-5c70b4984550",
   "metadata": {},
   "source": [
    "## Exercise 4\n",
    "\n",
    "calculate the sum of squared erros, explained sum of squares, total sum of squares, mean squared error, and root mean squared error for the model\n"
   ]
  },
  {
   "cell_type": "markdown",
   "id": "98712880-3d8b-470f-94f5-0aa78ee13379",
   "metadata": {},
   "source": [
    "### SSE - Sum of Squared Errors"
   ]
  },
  {
   "cell_type": "code",
   "execution_count": 43,
   "id": "6ebc76d9-4593-4ee4-91d5-c75be594c774",
   "metadata": {},
   "outputs": [
    {
     "name": "stdout",
     "output_type": "stream",
     "text": [
      "SSE is 252.788743850776\n"
     ]
    }
   ],
   "source": [
    "\n",
    "df['residual^2'] = df.residual **2\n",
    "SSE = df['residual^2'].sum()\n",
    "\n",
    "print(f'SSE is {SSE}')"
   ]
  },
  {
   "cell_type": "markdown",
   "id": "f56699e3-a543-47fe-b0dd-c98ec3e31d29",
   "metadata": {},
   "source": [
    "### ESS - Explained Sum of Squares\n"
   ]
  },
  {
   "cell_type": "code",
   "execution_count": 47,
   "id": "b40dc5ba-2b73-451f-8a4d-05219c4a057c",
   "metadata": {},
   "outputs": [
    {
     "name": "stdout",
     "output_type": "stream",
     "text": [
      "ESS is 212.42373319840422\n"
     ]
    }
   ],
   "source": [
    "ESS = ((df.yhat - df.tip.mean())**2).sum()\n",
    "print(f'ESS is {ESS}')"
   ]
  },
  {
   "cell_type": "markdown",
   "id": "7e25a128-9dde-493c-9c31-5cf7edc3efb9",
   "metadata": {},
   "source": [
    "### Mean Squared Errors"
   ]
  },
  {
   "cell_type": "code",
   "execution_count": 48,
   "id": "5576b8ea-406f-4aed-a52a-daf51cec7020",
   "metadata": {},
   "outputs": [
    {
     "name": "stdout",
     "output_type": "stream",
     "text": [
      "MSE is 1.036019442011377\n"
     ]
    }
   ],
   "source": [
    "# calculate mean squared error\n",
    "MSE = SSE/len(df)\n",
    "print(f'MSE is {MSE}')"
   ]
  },
  {
   "cell_type": "markdown",
   "id": "cb017ddd-4423-4743-836d-771c13936fb9",
   "metadata": {},
   "source": [
    "### Root Mean Squared Error"
   ]
  },
  {
   "cell_type": "code",
   "execution_count": 49,
   "id": "d0aaaed7-2934-4360-991d-16dd6903d085",
   "metadata": {},
   "outputs": [
    {
     "name": "stdout",
     "output_type": "stream",
     "text": [
      "RMSE is 1.0178504025697377\n"
     ]
    }
   ],
   "source": [
    "# calculating RMSE\n",
    "RMSE = sqrt(MSE)\n",
    "print(f'RMSE is {RMSE}')"
   ]
  },
  {
   "cell_type": "markdown",
   "id": "88bd524d-b781-4be4-b85a-407bf33aa2f3",
   "metadata": {},
   "source": [
    "## Exercise 5\n",
    "Calculate the Sum of squared errors, mean squared error, and RMSE for the baseline model"
   ]
  },
  {
   "cell_type": "code",
   "execution_count": 51,
   "id": "beef2181-719a-4c99-afa6-2296e5c55472",
   "metadata": {},
   "outputs": [
    {
     "name": "stdout",
     "output_type": "stream",
     "text": [
      "baseline SSE is 465.2124770491804\n"
     ]
    }
   ],
   "source": [
    "df['baseline_residual^2'] = df.baseline_residual ** 2\n",
    "baseline_SSE = df['baseline_residual^2'].sum()\n",
    "\n",
    "print(f'baseline SSE is {baseline_SSE}')"
   ]
  },
  {
   "cell_type": "code",
   "execution_count": null,
   "id": "61b95350-ac20-4548-b80f-79d57b429ee4",
   "metadata": {},
   "outputs": [],
   "source": []
  }
 ],
 "metadata": {
  "kernelspec": {
   "display_name": "Python 3 (ipykernel)",
   "language": "python",
   "name": "python3"
  },
  "language_info": {
   "codemirror_mode": {
    "name": "ipython",
    "version": 3
   },
   "file_extension": ".py",
   "mimetype": "text/x-python",
   "name": "python",
   "nbconvert_exporter": "python",
   "pygments_lexer": "ipython3",
   "version": "3.9.7"
  }
 },
 "nbformat": 4,
 "nbformat_minor": 5
}
